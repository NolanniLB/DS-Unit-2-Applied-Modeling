{
  "nbformat": 4,
  "nbformat_minor": 0,
  "metadata": {
    "kernelspec": {
      "display_name": "Python 3",
      "language": "python",
      "name": "python3"
    },
    "language_info": {
      "codemirror_mode": {
        "name": "ipython",
        "version": 3
      },
      "file_extension": ".py",
      "mimetype": "text/x-python",
      "name": "python",
      "nbconvert_exporter": "python",
      "pygments_lexer": "ipython3",
      "version": "3.7.6"
    },
    "colab": {
      "name": "NolanniB-LS_DS_231_assignment.ipynb",
      "provenance": [],
      "collapsed_sections": [],
      "include_colab_link": true
    }
  },
  "cells": [
    {
      "cell_type": "markdown",
      "metadata": {
        "id": "view-in-github",
        "colab_type": "text"
      },
      "source": [
        "<a href=\"https://colab.research.google.com/github/NolanniLB/DS-Unit-2-Applied-Modeling/blob/master/NolanniB_LS_DS_231_assignment.ipynb\" target=\"_parent\"><img src=\"https://colab.research.google.com/assets/colab-badge.svg\" alt=\"Open In Colab\"/></a>"
      ]
    },
    {
      "cell_type": "markdown",
      "metadata": {
        "colab_type": "text",
        "id": "nCc3XZEyG3XV"
      },
      "source": [
        "Lambda School Data Science\n",
        "\n",
        "*Unit 2, Sprint 3, Module 1*\n",
        "\n",
        "---\n",
        "\n",
        "\n",
        "# Define ML problems\n",
        "\n",
        "You will use your portfolio project dataset for all assignments this sprint.\n",
        "\n",
        "## Assignment\n",
        "\n",
        "Complete these tasks for your project, and document your decisions.\n",
        "\n",
        "- [ ] Choose your target. Which column in your tabular dataset will you predict?\n",
        "- [ ] Is your problem regression or classification?\n",
        "- [ ] How is your target distributed?\n",
        "    - Classification: How many classes? Are the classes imbalanced?\n",
        "    - Regression: Is the target right-skewed? If so, you may want to log transform the target.\n",
        "- [ ] Choose your evaluation metric(s).\n",
        "    - Classification: Is your majority class frequency >= 50% and < 70% ? If so, you can just use accuracy if you want. Outside that range, accuracy could be misleading. What evaluation metric will you choose, in addition to or instead of accuracy?\n",
        "    - Regression: Will you use mean absolute error, root mean squared error, R^2, or other regression metrics?\n",
        "- [ ] Choose which observations you will use to train, validate, and test your model.\n",
        "    - Are some observations outliers? Will you exclude them?\n",
        "    - Will you do a random split or a time-based split?\n",
        "- [ ] Begin to clean and explore your data.\n",
        "- [ ] Begin to choose which features, if any, to exclude. Would some features \"leak\" future information?\n",
        "\n",
        "If you haven't found a dataset yet, do that today. [Review requirements for your portfolio project](https://lambdaschool.github.io/ds/unit2) and choose your dataset.\n",
        "\n",
        "Some students worry, ***what if my model isn't “good”?*** Then, [produce a detailed tribute to your wrongness. That is science!](https://twitter.com/nathanwpyle/status/1176860147223867393)"
      ]
    },
    {
      "cell_type": "code",
      "metadata": {
        "id": "9rkzcSqD8U3s",
        "colab_type": "code",
        "outputId": "40a1c0fc-97e1-421c-b86f-45e2e2fc9fbc",
        "colab": {
          "base_uri": "https://localhost:8080/",
          "height": 497
        }
      },
      "source": [
        "!wget -O critters.csv https://data.austintexas.gov/api/views/9t4d-g238/rows.csv?accessType=DOWNLOAD\n",
        "import pandas as pd\n",
        "df = pd.read_csv('Austin_Animal_Center_Outcomes-2.csv')\n",
        "print(df.shape)\n",
        "df.head()"
      ],
      "execution_count": 1,
      "outputs": [
        {
          "output_type": "stream",
          "text": [
            "--2020-06-10 03:37:35--  https://data.austintexas.gov/api/views/9t4d-g238/rows.csv?accessType=DOWNLOAD\n",
            "Resolving data.austintexas.gov (data.austintexas.gov)... 52.206.140.199, 52.206.68.26, 52.206.140.205\n",
            "Connecting to data.austintexas.gov (data.austintexas.gov)|52.206.140.199|:443... connected.\n",
            "HTTP request sent, awaiting response... 200 OK\n",
            "Length: unspecified [text/csv]\n",
            "Saving to: ‘critters.csv’\n",
            "\n",
            "critters.csv            [                <=> ]  15.87M  4.08MB/s    in 3.8s    \n",
            "\n",
            "2020-06-10 03:37:39 (4.13 MB/s) - ‘critters.csv’ saved [16643243]\n",
            "\n",
            "(117994, 12)\n"
          ],
          "name": "stdout"
        },
        {
          "output_type": "execute_result",
          "data": {
            "text/html": [
              "<div>\n",
              "<style scoped>\n",
              "    .dataframe tbody tr th:only-of-type {\n",
              "        vertical-align: middle;\n",
              "    }\n",
              "\n",
              "    .dataframe tbody tr th {\n",
              "        vertical-align: top;\n",
              "    }\n",
              "\n",
              "    .dataframe thead th {\n",
              "        text-align: right;\n",
              "    }\n",
              "</style>\n",
              "<table border=\"1\" class=\"dataframe\">\n",
              "  <thead>\n",
              "    <tr style=\"text-align: right;\">\n",
              "      <th></th>\n",
              "      <th>Animal ID</th>\n",
              "      <th>Name</th>\n",
              "      <th>DateTime</th>\n",
              "      <th>MonthYear</th>\n",
              "      <th>Date of Birth</th>\n",
              "      <th>Outcome Type</th>\n",
              "      <th>Outcome Subtype</th>\n",
              "      <th>Animal Type</th>\n",
              "      <th>Sex upon Outcome</th>\n",
              "      <th>Age upon Outcome</th>\n",
              "      <th>Breed</th>\n",
              "      <th>Color</th>\n",
              "    </tr>\n",
              "  </thead>\n",
              "  <tbody>\n",
              "    <tr>\n",
              "      <th>0</th>\n",
              "      <td>A794011</td>\n",
              "      <td>Chunk</td>\n",
              "      <td>05/08/2019 06:20:00 PM</td>\n",
              "      <td>05/08/2019 06:20:00 PM</td>\n",
              "      <td>05/02/2017</td>\n",
              "      <td>Rto-Adopt</td>\n",
              "      <td>NaN</td>\n",
              "      <td>Cat</td>\n",
              "      <td>Neutered Male</td>\n",
              "      <td>2 years</td>\n",
              "      <td>Domestic Shorthair Mix</td>\n",
              "      <td>Brown Tabby/White</td>\n",
              "    </tr>\n",
              "    <tr>\n",
              "      <th>1</th>\n",
              "      <td>A776359</td>\n",
              "      <td>Gizmo</td>\n",
              "      <td>07/18/2018 04:02:00 PM</td>\n",
              "      <td>07/18/2018 04:02:00 PM</td>\n",
              "      <td>07/12/2017</td>\n",
              "      <td>Adoption</td>\n",
              "      <td>NaN</td>\n",
              "      <td>Dog</td>\n",
              "      <td>Neutered Male</td>\n",
              "      <td>1 year</td>\n",
              "      <td>Chihuahua Shorthair Mix</td>\n",
              "      <td>White/Brown</td>\n",
              "    </tr>\n",
              "    <tr>\n",
              "      <th>2</th>\n",
              "      <td>A720371</td>\n",
              "      <td>Moose</td>\n",
              "      <td>02/13/2016 05:59:00 PM</td>\n",
              "      <td>02/13/2016 05:59:00 PM</td>\n",
              "      <td>10/08/2015</td>\n",
              "      <td>Adoption</td>\n",
              "      <td>NaN</td>\n",
              "      <td>Dog</td>\n",
              "      <td>Neutered Male</td>\n",
              "      <td>4 months</td>\n",
              "      <td>Anatol Shepherd/Labrador Retriever</td>\n",
              "      <td>Buff</td>\n",
              "    </tr>\n",
              "    <tr>\n",
              "      <th>3</th>\n",
              "      <td>A674754</td>\n",
              "      <td>NaN</td>\n",
              "      <td>03/18/2014 11:47:00 AM</td>\n",
              "      <td>03/18/2014 11:47:00 AM</td>\n",
              "      <td>03/12/2014</td>\n",
              "      <td>Transfer</td>\n",
              "      <td>Partner</td>\n",
              "      <td>Cat</td>\n",
              "      <td>Intact Male</td>\n",
              "      <td>6 days</td>\n",
              "      <td>Domestic Shorthair Mix</td>\n",
              "      <td>Orange Tabby</td>\n",
              "    </tr>\n",
              "    <tr>\n",
              "      <th>4</th>\n",
              "      <td>A689724</td>\n",
              "      <td>*Donatello</td>\n",
              "      <td>10/18/2014 06:52:00 PM</td>\n",
              "      <td>10/18/2014 06:52:00 PM</td>\n",
              "      <td>08/01/2014</td>\n",
              "      <td>Adoption</td>\n",
              "      <td>NaN</td>\n",
              "      <td>Cat</td>\n",
              "      <td>Neutered Male</td>\n",
              "      <td>2 months</td>\n",
              "      <td>Domestic Shorthair Mix</td>\n",
              "      <td>Black</td>\n",
              "    </tr>\n",
              "  </tbody>\n",
              "</table>\n",
              "</div>"
            ],
            "text/plain": [
              "  Animal ID        Name  ...                               Breed              Color\n",
              "0   A794011       Chunk  ...              Domestic Shorthair Mix  Brown Tabby/White\n",
              "1   A776359       Gizmo  ...             Chihuahua Shorthair Mix        White/Brown\n",
              "2   A720371       Moose  ...  Anatol Shepherd/Labrador Retriever               Buff\n",
              "3   A674754         NaN  ...              Domestic Shorthair Mix       Orange Tabby\n",
              "4   A689724  *Donatello  ...              Domestic Shorthair Mix              Black\n",
              "\n",
              "[5 rows x 12 columns]"
            ]
          },
          "metadata": {
            "tags": []
          },
          "execution_count": 1
        }
      ]
    },
    {
      "cell_type": "code",
      "metadata": {
        "id": "rb3OFuyH9sQC",
        "colab_type": "code",
        "outputId": "f2e918d3-fdee-4983-f006-a5ae5fd452e2",
        "colab": {
          "base_uri": "https://localhost:8080/",
          "height": 230
        }
      },
      "source": [
        "# Look for missing values\n",
        "df.isnull().sum()"
      ],
      "execution_count": 2,
      "outputs": [
        {
          "output_type": "execute_result",
          "data": {
            "text/plain": [
              "Animal ID               0\n",
              "Name                36967\n",
              "DateTime                0\n",
              "MonthYear               0\n",
              "Date of Birth           0\n",
              "Outcome Type            8\n",
              "Outcome Subtype     64354\n",
              "Animal Type             0\n",
              "Sex upon Outcome        4\n",
              "Age upon Outcome       52\n",
              "Breed                   0\n",
              "Color                   0\n",
              "dtype: int64"
            ]
          },
          "metadata": {
            "tags": []
          },
          "execution_count": 2
        }
      ]
    },
    {
      "cell_type": "code",
      "metadata": {
        "id": "kxnDgxQD_zCP",
        "colab_type": "code",
        "outputId": "0321bed0-47d4-47ac-d890-14c7eb1ddde3",
        "colab": {
          "base_uri": "https://localhost:8080/",
          "height": 230
        }
      },
      "source": [
        "df.dtypes"
      ],
      "execution_count": 3,
      "outputs": [
        {
          "output_type": "execute_result",
          "data": {
            "text/plain": [
              "Animal ID           object\n",
              "Name                object\n",
              "DateTime            object\n",
              "MonthYear           object\n",
              "Date of Birth       object\n",
              "Outcome Type        object\n",
              "Outcome Subtype     object\n",
              "Animal Type         object\n",
              "Sex upon Outcome    object\n",
              "Age upon Outcome    object\n",
              "Breed               object\n",
              "Color               object\n",
              "dtype: object"
            ]
          },
          "metadata": {
            "tags": []
          },
          "execution_count": 3
        }
      ]
    },
    {
      "cell_type": "code",
      "metadata": {
        "id": "n4sIa9diESNY",
        "colab_type": "code",
        "outputId": "aed8f708-0ecf-43da-d4fa-d39f572b25dd",
        "colab": {
          "base_uri": "https://localhost:8080/",
          "height": 65
        }
      },
      "source": [
        "df['Outcome Type'].unique()"
      ],
      "execution_count": 4,
      "outputs": [
        {
          "output_type": "execute_result",
          "data": {
            "text/plain": [
              "array(['Rto-Adopt', 'Adoption', 'Transfer', 'Return to Owner',\n",
              "       'Euthanasia', 'Died', 'Disposal', 'Missing', 'Relocate', nan],\n",
              "      dtype=object)"
            ]
          },
          "metadata": {
            "tags": []
          },
          "execution_count": 4
        }
      ]
    },
    {
      "cell_type": "code",
      "metadata": {
        "id": "Bzks4Su0xUU6",
        "colab_type": "code",
        "colab": {}
      },
      "source": [
        "from sklearn.model_selection import train_test_split\n",
        "train, test = train_test_split( df, train_size=0.80, random_state=42) \n"
      ],
      "execution_count": 0,
      "outputs": []
    },
    {
      "cell_type": "code",
      "metadata": {
        "id": "zRmXRMT934zq",
        "colab_type": "code",
        "outputId": "804283c3-5496-4534-d4be-f9d6ccc96fea",
        "colab": {
          "base_uri": "https://localhost:8080/",
          "height": 300
        }
      },
      "source": [
        "train.head()"
      ],
      "execution_count": 6,
      "outputs": [
        {
          "output_type": "execute_result",
          "data": {
            "text/html": [
              "<div>\n",
              "<style scoped>\n",
              "    .dataframe tbody tr th:only-of-type {\n",
              "        vertical-align: middle;\n",
              "    }\n",
              "\n",
              "    .dataframe tbody tr th {\n",
              "        vertical-align: top;\n",
              "    }\n",
              "\n",
              "    .dataframe thead th {\n",
              "        text-align: right;\n",
              "    }\n",
              "</style>\n",
              "<table border=\"1\" class=\"dataframe\">\n",
              "  <thead>\n",
              "    <tr style=\"text-align: right;\">\n",
              "      <th></th>\n",
              "      <th>Animal ID</th>\n",
              "      <th>Name</th>\n",
              "      <th>DateTime</th>\n",
              "      <th>MonthYear</th>\n",
              "      <th>Date of Birth</th>\n",
              "      <th>Outcome Type</th>\n",
              "      <th>Outcome Subtype</th>\n",
              "      <th>Animal Type</th>\n",
              "      <th>Sex upon Outcome</th>\n",
              "      <th>Age upon Outcome</th>\n",
              "      <th>Breed</th>\n",
              "      <th>Color</th>\n",
              "    </tr>\n",
              "  </thead>\n",
              "  <tbody>\n",
              "    <tr>\n",
              "      <th>58003</th>\n",
              "      <td>A808234</td>\n",
              "      <td>Jasmine</td>\n",
              "      <td>11/12/2019 12:35:00 PM</td>\n",
              "      <td>11/12/2019 12:35:00 PM</td>\n",
              "      <td>01/06/2019</td>\n",
              "      <td>Transfer</td>\n",
              "      <td>Partner</td>\n",
              "      <td>Dog</td>\n",
              "      <td>Intact Female</td>\n",
              "      <td>10 months</td>\n",
              "      <td>Boxer</td>\n",
              "      <td>Brown</td>\n",
              "    </tr>\n",
              "    <tr>\n",
              "      <th>58368</th>\n",
              "      <td>A608937</td>\n",
              "      <td>Muneca</td>\n",
              "      <td>09/05/2014 11:07:00 AM</td>\n",
              "      <td>09/05/2014 11:07:00 AM</td>\n",
              "      <td>05/31/2011</td>\n",
              "      <td>Return to Owner</td>\n",
              "      <td>NaN</td>\n",
              "      <td>Dog</td>\n",
              "      <td>Spayed Female</td>\n",
              "      <td>3 years</td>\n",
              "      <td>Pit Bull Mix</td>\n",
              "      <td>Brown Brindle/White</td>\n",
              "    </tr>\n",
              "    <tr>\n",
              "      <th>70730</th>\n",
              "      <td>A672753</td>\n",
              "      <td>NaN</td>\n",
              "      <td>02/22/2014 02:52:00 PM</td>\n",
              "      <td>02/22/2014 02:52:00 PM</td>\n",
              "      <td>02/16/2013</td>\n",
              "      <td>Transfer</td>\n",
              "      <td>Partner</td>\n",
              "      <td>Dog</td>\n",
              "      <td>Spayed Female</td>\n",
              "      <td>1 year</td>\n",
              "      <td>Miniature Schnauzer/Whippet</td>\n",
              "      <td>White</td>\n",
              "    </tr>\n",
              "    <tr>\n",
              "      <th>59307</th>\n",
              "      <td>A730737</td>\n",
              "      <td>NaN</td>\n",
              "      <td>07/15/2016 05:49:00 PM</td>\n",
              "      <td>07/15/2016 05:49:00 PM</td>\n",
              "      <td>02/09/2016</td>\n",
              "      <td>Adoption</td>\n",
              "      <td>NaN</td>\n",
              "      <td>Dog</td>\n",
              "      <td>Neutered Male</td>\n",
              "      <td>5 months</td>\n",
              "      <td>German Shepherd</td>\n",
              "      <td>Black/Tan</td>\n",
              "    </tr>\n",
              "    <tr>\n",
              "      <th>97418</th>\n",
              "      <td>A765376</td>\n",
              "      <td>*Zora</td>\n",
              "      <td>02/20/2018 12:00:00 AM</td>\n",
              "      <td>02/20/2018 12:00:00 AM</td>\n",
              "      <td>01/18/2016</td>\n",
              "      <td>Transfer</td>\n",
              "      <td>Partner</td>\n",
              "      <td>Dog</td>\n",
              "      <td>Intact Female</td>\n",
              "      <td>2 years</td>\n",
              "      <td>Australian Kelpie/Border Collie</td>\n",
              "      <td>Tricolor</td>\n",
              "    </tr>\n",
              "  </tbody>\n",
              "</table>\n",
              "</div>"
            ],
            "text/plain": [
              "      Animal ID     Name  ...                            Breed                Color\n",
              "58003   A808234  Jasmine  ...                            Boxer                Brown\n",
              "58368   A608937   Muneca  ...                     Pit Bull Mix  Brown Brindle/White\n",
              "70730   A672753      NaN  ...      Miniature Schnauzer/Whippet                White\n",
              "59307   A730737      NaN  ...                  German Shepherd            Black/Tan\n",
              "97418   A765376    *Zora  ...  Australian Kelpie/Border Collie             Tricolor\n",
              "\n",
              "[5 rows x 12 columns]"
            ]
          },
          "metadata": {
            "tags": []
          },
          "execution_count": 6
        }
      ]
    },
    {
      "cell_type": "code",
      "metadata": {
        "id": "kUQUtaf08Eev",
        "colab_type": "code",
        "colab": {}
      },
      "source": [
        "target = 'Outcome Type'\n",
        "features = ['Age upon Outcome','Animal Type','Sex upon Outcome','Breed','Color']\n",
        "\n",
        "x_train = train[features]\n",
        "x_test = test[features]\n",
        "y_train= train[target]\n",
        "y_test = test[target]"
      ],
      "execution_count": 0,
      "outputs": []
    },
    {
      "cell_type": "code",
      "metadata": {
        "id": "NvffoCd8BbuO",
        "colab_type": "code",
        "colab": {
          "base_uri": "https://localhost:8080/",
          "height": 197
        },
        "outputId": "88043b8b-dad4-490d-854d-57b83767a3a3"
      },
      "source": [
        "df[target].value_counts(normalize= True,dropna=False )"
      ],
      "execution_count": 8,
      "outputs": [
        {
          "output_type": "execute_result",
          "data": {
            "text/plain": [
              "Adoption           0.440463\n",
              "Transfer           0.297007\n",
              "Return to Owner    0.175763\n",
              "Euthanasia         0.067283\n",
              "Died               0.009161\n",
              "Rto-Adopt          0.005238\n",
              "Disposal           0.004280\n",
              "Missing            0.000568\n",
              "Relocate           0.000170\n",
              "NaN                0.000068\n",
              "Name: Outcome Type, dtype: float64"
            ]
          },
          "metadata": {
            "tags": []
          },
          "execution_count": 8
        }
      ]
    },
    {
      "cell_type": "code",
      "metadata": {
        "id": "H1ho68uKTIJw",
        "colab_type": "code",
        "colab": {
          "base_uri": "https://localhost:8080/",
          "height": 98
        },
        "outputId": "b8f4a124-4ac4-4083-e790-1c920b09679c"
      },
      "source": [
        "y_train.fillna('mis', inplace=True)"
      ],
      "execution_count": 13,
      "outputs": [
        {
          "output_type": "stream",
          "text": [
            "/usr/local/lib/python3.6/dist-packages/pandas/core/generic.py:6245: SettingWithCopyWarning: \n",
            "A value is trying to be set on a copy of a slice from a DataFrame\n",
            "\n",
            "See the caveats in the documentation: https://pandas.pydata.org/pandas-docs/stable/user_guide/indexing.html#returning-a-view-versus-a-copy\n",
            "  self._update_inplace(new_data)\n"
          ],
          "name": "stderr"
        }
      ]
    },
    {
      "cell_type": "code",
      "metadata": {
        "id": "t0acvM5ex9p3",
        "colab_type": "code",
        "colab": {
          "base_uri": "https://localhost:8080/",
          "height": 32
        },
        "outputId": "a0f1baf8-630b-4783-8630-dbcf86a91c3d"
      },
      "source": [
        "# the baseline\n",
        "from sklearn.metrics import accuracy_score\n",
        "majority_class = y_train.mode()[0]\n",
        "y_train_pred = [majority_class]*len(y_train)\n",
        "accuracy_score(y_train, y_train_pred)"
      ],
      "execution_count": 14,
      "outputs": [
        {
          "output_type": "execute_result",
          "data": {
            "text/plain": [
              "0.44027755707399757"
            ]
          },
          "metadata": {
            "tags": []
          },
          "execution_count": 14
        }
      ]
    }
  ]
}